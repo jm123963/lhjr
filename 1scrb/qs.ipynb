{
 "cells": [
  {
   "cell_type": "code",
   "execution_count": 52,
   "metadata": {},
   "outputs": [],
   "source": [
    "import qstock as qs\n",
    "from datetime import *\n",
    "import exchange_calendars as xcals\n",
    "import numpy as np\n",
    "import pandas as pd\n",
    "from datetime import timedelta, datetime\n",
    "import time as _time\n",
    "from datetime import *\n",
    "from pandas import DataFrame"
   ]
  },
  {
   "cell_type": "code",
   "execution_count": 53,
   "metadata": {},
   "outputs": [],
   "source": [
    "class mq():\n",
    "    def __init__():\n",
    "        date=datetime.today().strftime(\"%Y-%m-%d\")\n",
    "        xshg = xcals.get_calendar(\"XSHG\")\n",
    "        xshg_range = xshg.schedule.loc[\"2000-01-01\":\"\"+date+\"\"]\n",
    "    def flzszf0():\n",
    "        code_list=['中证全指','沪深300','中证500','中证1000']\n",
    "        flzszf0=qs.realtime_data(code_list, start=\"\"+date+\"\", end=\"\"+date+\"\", freq='d', fqt=1)\n",
    "        print(flzszf0)\n",
    "    def flzszf5():\n",
    "        date=xshg_range.index.strftime(\"%Y-%m-%d\").tolist()[-5]\n",
    "        code_list=['中证全指','沪深300','中证500','中证1000']\n",
    "        flzszf5=qs.get_price(code_list, start=\"\"+date+\"\", end=\"\"+date+\"\", freq='d', fqt=1)\n",
    "        print(flzszf5)"
   ]
  },
  {
   "cell_type": "code",
   "execution_count": 54,
   "metadata": {},
   "outputs": [
    {
     "ename": "TypeError",
     "evalue": "can only concatenate str (not \"type\") to str",
     "output_type": "error",
     "traceback": [
      "\u001b[1;31m---------------------------------------------------------------------------\u001b[0m",
      "\u001b[1;31mTypeError\u001b[0m                                 Traceback (most recent call last)",
      "\u001b[1;32mc:\\xyzy\\1lhjr\\1scrb\\qs.ipynb Cell 3\u001b[0m in \u001b[0;36m<cell line: 2>\u001b[1;34m()\u001b[0m\n\u001b[0;32m      <a href='vscode-notebook-cell:/c%3A/xyzy/1lhjr/1scrb/qs.ipynb#W3sZmlsZQ%3D%3D?line=0'>1</a>\u001b[0m mq\u001b[39m.\u001b[39m\u001b[39m__init__\u001b[39m()\n\u001b[1;32m----> <a href='vscode-notebook-cell:/c%3A/xyzy/1lhjr/1scrb/qs.ipynb#W3sZmlsZQ%3D%3D?line=1'>2</a>\u001b[0m mq\u001b[39m.\u001b[39;49mflzszf0()\n\u001b[0;32m      <a href='vscode-notebook-cell:/c%3A/xyzy/1lhjr/1scrb/qs.ipynb#W3sZmlsZQ%3D%3D?line=2'>3</a>\u001b[0m mq\u001b[39m.\u001b[39mflzszf5()\n",
      "\u001b[1;32mc:\\xyzy\\1lhjr\\1scrb\\qs.ipynb Cell 3\u001b[0m in \u001b[0;36mmq.flzszf0\u001b[1;34m()\u001b[0m\n\u001b[0;32m      <a href='vscode-notebook-cell:/c%3A/xyzy/1lhjr/1scrb/qs.ipynb#W3sZmlsZQ%3D%3D?line=5'>6</a>\u001b[0m \u001b[39mdef\u001b[39;00m \u001b[39mflzszf0\u001b[39m():\n\u001b[0;32m      <a href='vscode-notebook-cell:/c%3A/xyzy/1lhjr/1scrb/qs.ipynb#W3sZmlsZQ%3D%3D?line=6'>7</a>\u001b[0m     code_list\u001b[39m=\u001b[39m[\u001b[39m'\u001b[39m\u001b[39m中证全指\u001b[39m\u001b[39m'\u001b[39m,\u001b[39m'\u001b[39m\u001b[39m沪深300\u001b[39m\u001b[39m'\u001b[39m,\u001b[39m'\u001b[39m\u001b[39m中证500\u001b[39m\u001b[39m'\u001b[39m,\u001b[39m'\u001b[39m\u001b[39m中证1000\u001b[39m\u001b[39m'\u001b[39m]\n\u001b[1;32m----> <a href='vscode-notebook-cell:/c%3A/xyzy/1lhjr/1scrb/qs.ipynb#W3sZmlsZQ%3D%3D?line=7'>8</a>\u001b[0m     flzszf0\u001b[39m=\u001b[39mqs\u001b[39m.\u001b[39mrealtime_data(code_list, start\u001b[39m=\u001b[39m\u001b[39m\"\u001b[39;49m\u001b[39m\"\u001b[39;49m\u001b[39m+\u001b[39;49mdate\u001b[39m+\u001b[39m\u001b[39m\"\u001b[39m\u001b[39m\"\u001b[39m, end\u001b[39m=\u001b[39m\u001b[39m\"\u001b[39m\u001b[39m\"\u001b[39m\u001b[39m+\u001b[39mdate\u001b[39m+\u001b[39m\u001b[39m\"\u001b[39m\u001b[39m\"\u001b[39m, freq\u001b[39m=\u001b[39m\u001b[39m'\u001b[39m\u001b[39md\u001b[39m\u001b[39m'\u001b[39m, fqt\u001b[39m=\u001b[39m\u001b[39m1\u001b[39m)\n\u001b[0;32m      <a href='vscode-notebook-cell:/c%3A/xyzy/1lhjr/1scrb/qs.ipynb#W3sZmlsZQ%3D%3D?line=8'>9</a>\u001b[0m     \u001b[39mprint\u001b[39m(flzszf0)\n",
      "\u001b[1;31mTypeError\u001b[0m: can only concatenate str (not \"type\") to str"
     ]
    }
   ],
   "source": [
    "mq.__init__()\n",
    "mq.flzszf0()\n",
    "mq.flzszf5()"
   ]
  },
  {
   "cell_type": "code",
   "execution_count": null,
   "metadata": {},
   "outputs": [],
   "source": []
  }
 ],
 "metadata": {
  "kernelspec": {
   "display_name": "Python 3.9.12 ('base')",
   "language": "python",
   "name": "python3"
  },
  "language_info": {
   "codemirror_mode": {
    "name": "ipython",
    "version": 3
   },
   "file_extension": ".py",
   "mimetype": "text/x-python",
   "name": "python",
   "nbconvert_exporter": "python",
   "pygments_lexer": "ipython3",
   "version": "3.9.12"
  },
  "orig_nbformat": 4,
  "vscode": {
   "interpreter": {
    "hash": "1824683ad2df80911dfe29aec2705426b8e553b76d674a48a235559d99c9f700"
   }
  }
 },
 "nbformat": 4,
 "nbformat_minor": 2
}
